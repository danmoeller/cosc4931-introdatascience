{
 "cells": [
  {
   "cell_type": "code",
   "execution_count": 1,
   "metadata": {
    "collapsed": true
   },
   "outputs": [],
   "source": [
    "%matplotlib inline \n",
    "\n",
    "import numpy as np\n",
    "import matplotlib.pyplot as plt\n",
    "import time\n",
    "start_time = time.time()"
   ]
  },
  {
   "cell_type": "code",
   "execution_count": 2,
   "metadata": {
    "collapsed": false
   },
   "outputs": [
    {
     "data": {
      "text/plain": [
       "<matplotlib.text.Text at 0x1117f0dd0>"
      ]
     },
     "execution_count": 2,
     "metadata": {},
     "output_type": "execute_result"
    },
    {
     "data": {
      "image/png": "[encoded data removed]",
      "text/plain": [
       "<matplotlib.figure.Figure at 0x11171d750>"
      ]
     },
     "metadata": {},
     "output_type": "display_data"
    }
   ],
   "source": [
    "T = 20  \n",
    "dim = 2\n",
    "N = 1000\n",
    "\n",
    "# random data\n",
    "x = np.random.randn(N, 2)  # dim=2\n",
    "\n",
    "label = np.zeros(N, dtype=np.int64) # zero out matrix\n",
    "\n",
    "# label = x[:,0] < x[:,1]  #linear separation example\n",
    "label = (x[:, 0]**2 + x[:, 1]**2) < 1  # nonlinear separation example\n",
    "\n",
    "\n",
    "label = label * 1.0\n",
    "\n",
    "pos1 = np.nonzero(label == 1)\n",
    "pos2 = np.where(label == 0)\n",
    "label[pos2] = -1\n",
    "\n",
    "# Plot the data\n",
    "\n",
    "plt.figure()\n",
    "plt.plot(x[pos1, 0], x[pos1, 1], 'b*')\n",
    "plt.plot(x[pos2, 0], x[pos2, 1], 'r*')\n",
    "plt.axis([-3, 3, -3, 3])\n",
    "plt.title(\"Original data\")"
   ]
  },
  {
   "cell_type": "code",
   "execution_count": 7,
   "metadata": {
    "collapsed": true
   },
   "outputs": [],
   "source": [
    "temp = np.zeros(N, dtype=np.int64)\n",
    "\n",
    "\n",
    "# Returns error and calculated labels corresponding to\n",
    "def weakClassifier_error(i, j, k, x, weight, label):\n",
    "                                                # threshold i\n",
    "                                                # dimension j\n",
    "                                                # sign k on dataset x.\n",
    "                                                # Original labels are stored in\n",
    "                                                # label\n",
    "\n",
    "    temp_err = np.float64(0)\n",
    "    # Initialise actual and expected labels to a perfect match( 0 = match , 1\n",
    "    # = not a match)\n",
    "    y = np.zeros(N, dtype=np.int64)\n",
    "\n",
    "    if(k == 1):\n",
    "        temp = (x[:, j] >= i)\n",
    "    else:\n",
    "        temp = (x[:, j] < i)\n",
    "\n",
    "    temp = np.int64(temp)\n",
    "    temp[np.where(temp == 0)] = -1\n",
    "    y = np.int64(temp != label)\n",
    "    # Calculate error of this weak classifier on the weighted dataset\n",
    "    temp_err = np.sum(y * weight)\n",
    "\n",
    "    return [temp_err, y]"
   ]
  },
  {
   "cell_type": "code",
   "execution_count": 4,
   "metadata": {
    "collapsed": false
   },
   "outputs": [],
   "source": [
    "# Actual program begins\n",
    "\n",
    "# h and alpha together completely specify the final strong classifier\n",
    "h = np.zeros([T, 3], dtype=np.float64)\n",
    "alpha = np.zeros(T, dtype=np.float64)\n",
    "\n",
    "threshold = np.arange(-3.0, 3.0, 0.1)\n",
    "\n",
    "weight = np.ones(N, dtype=np.float64) / (N)  # Initialise weights\n",
    "\n",
    "# Initially set error to infinity, to allow comparing with error of classifiers\n",
    "err = np.ones(T, dtype=np.float64) * np.inf\n",
    "\n",
    "for t in range(T):\n",
    "    for i in threshold:\n",
    "        for j in range(dim):\n",
    "            for k in [-1, 1]:\n",
    "                [tmpe, y] = weakClassifier_error(i, j, k, x, weight, label)\n",
    "                if(tmpe < err[t]):  # storing the better classifier in h\n",
    "                    err[t] = tmpe\n",
    "                    y0 = y\n",
    "                    h[t][0] = i\n",
    "                    h[t][1] = j\n",
    "                    h[t][2] = k\n",
    "\n",
    "    if(err[t] > 0.5):\n",
    "        T = t\n",
    "        # We have run out of weak classifiers! So truncate the no: of\n",
    "        # iterations used\n",
    "        #print t, \"Error!\"\n",
    "        break\n",
    "\n",
    "    alpha[t] = 0.5 * np.log((1.0 - err[t]) / err[t])\n",
    "\n",
    "    # y0=0 corresponded to correctly labelled datapoints. To reassign weights,\n",
    "    y0[np.where(y0 == 0)] = -1\n",
    "    # we need -1 and not 0 at these positions\n",
    "\n",
    "    weight = np.float64(weight * np.exp(alpha[t] * y0))  # Reassign weights\n",
    "\n",
    "    weight = weight / np.sum(weight)  # Normalise reassigned weights"
   ]
  },
  {
   "cell_type": "code",
   "execution_count": 6,
   "metadata": {
    "collapsed": false
   },
   "outputs": [
    {
     "ename": "IndexError",
     "evalue": "only integers, slices (`:`), ellipsis (`...`), numpy.newaxis (`None`) and integer or boolean arrays are valid indices",
     "output_type": "error",
     "traceback": [
      "\u001b[0;31m---------------------------------------------------------------------------\u001b[0m",
      "\u001b[0;31mIndexError\u001b[0m                                Traceback (most recent call last)",
      "\u001b[0;32m<ipython-input-6-a22373af90f9>\u001b[0m in \u001b[0;36m<module>\u001b[0;34m()\u001b[0m\n\u001b[1;32m      5\u001b[0m \u001b[0;34m\u001b[0m\u001b[0m\n\u001b[1;32m      6\u001b[0m \u001b[0;32mfor\u001b[0m \u001b[0mt\u001b[0m \u001b[0;32min\u001b[0m \u001b[0mrange\u001b[0m\u001b[0;34m(\u001b[0m\u001b[0mT\u001b[0m\u001b[0;34m)\u001b[0m\u001b[0;34m:\u001b[0m  \u001b[0;31m# Calculate final labels\u001b[0m\u001b[0;34m\u001b[0m\u001b[0m\n\u001b[0;32m----> 7\u001b[0;31m     \u001b[0mtemp\u001b[0m \u001b[0;34m=\u001b[0m \u001b[0mh\u001b[0m\u001b[0;34m[\u001b[0m\u001b[0mt\u001b[0m\u001b[0;34m]\u001b[0m\u001b[0;34m[\u001b[0m\u001b[0;36m2\u001b[0m\u001b[0;34m]\u001b[0m \u001b[0;34m*\u001b[0m \u001b[0mnp\u001b[0m\u001b[0;34m.\u001b[0m\u001b[0msign\u001b[0m\u001b[0;34m(\u001b[0m\u001b[0mx\u001b[0m\u001b[0;34m[\u001b[0m\u001b[0;34m:\u001b[0m\u001b[0;34m,\u001b[0m \u001b[0mh\u001b[0m\u001b[0;34m[\u001b[0m\u001b[0mt\u001b[0m\u001b[0;34m]\u001b[0m\u001b[0;34m[\u001b[0m\u001b[0;36m1\u001b[0m\u001b[0;34m]\u001b[0m\u001b[0;34m]\u001b[0m \u001b[0;34m-\u001b[0m \u001b[0mh\u001b[0m\u001b[0;34m[\u001b[0m\u001b[0mt\u001b[0m\u001b[0;34m]\u001b[0m\u001b[0;34m[\u001b[0m\u001b[0;36m0\u001b[0m\u001b[0;34m]\u001b[0m\u001b[0;34m)\u001b[0m\u001b[0;34m\u001b[0m\u001b[0m\n\u001b[0m\u001b[1;32m      8\u001b[0m     \u001b[0mtemp_sum\u001b[0m \u001b[0;34m=\u001b[0m \u001b[0mnp\u001b[0m\u001b[0;34m.\u001b[0m\u001b[0mfloat64\u001b[0m\u001b[0;34m(\u001b[0m\u001b[0mtemp_sum\u001b[0m \u001b[0;34m+\u001b[0m \u001b[0malpha\u001b[0m\u001b[0;34m[\u001b[0m\u001b[0mt\u001b[0m\u001b[0;34m]\u001b[0m \u001b[0;34m*\u001b[0m \u001b[0mtemp\u001b[0m\u001b[0;34m)\u001b[0m\u001b[0;34m\u001b[0m\u001b[0m\n\u001b[1;32m      9\u001b[0m     \u001b[0mfinal_label\u001b[0m \u001b[0;34m=\u001b[0m \u001b[0mnp\u001b[0m\u001b[0;34m.\u001b[0m\u001b[0msign\u001b[0m\u001b[0;34m(\u001b[0m\u001b[0mtemp_sum\u001b[0m\u001b[0;34m)\u001b[0m\u001b[0;34m\u001b[0m\u001b[0m\n",
      "\u001b[0;31mIndexError\u001b[0m: only integers, slices (`:`), ellipsis (`...`), numpy.newaxis (`None`) and integer or boolean arrays are valid indices"
     ]
    }
   ],
   "source": [
    "temp_sum = np.zeros(N, dtype=np.float64)\n",
    "temp = np.zeros(N, dtype=np.float64)\n",
    "final_label = np.zeros(N, dtype=np.float64)\n",
    "misshits = np.zeros(T)\n",
    "\n",
    "for t in range(T):  # Calculate final labels\n",
    "    temp = h[t][2] * np.sign(x[:, h[t][1]] - h[t][0])\n",
    "    temp_sum = np.float64(temp_sum + alpha[t] * temp)\n",
    "    final_label = np.sign(temp_sum)\n",
    "    misshits[t] = np.sum(np.float64(final_label != label)) / N\n",
    "\n",
    "\n",
    "# Now plot the generated labels\n",
    "pos1 = np.where(final_label == 1)\n",
    "pos2 = np.where(final_label == -1)\n",
    "\n",
    "plt.figure()\n",
    "plt.plot(x[pos1, 0], x[pos1, 1], 'b*')\n",
    "plt.plot(x[pos2, 0], x[pos2, 1], 'r*')\n",
    "plt.axis([-3, 3, -3, 3])\n",
    "plt.title(\"Generated data\")\n",
    "plt.show()\n",
    "\n",
    "# Plot miss hits when more and more weak learners are used\n",
    "plt.figure()\n",
    "plt.plot(misshits)\n",
    "plt.ylabel('Miss hits')\n",
    "\n",
    "print(\"--- %s seconds ---\" % (time.time() - start_time))"
   ]
  },
  {
   "cell_type": "code",
   "execution_count": null,
   "metadata": {
    "collapsed": true
   },
   "outputs": [],
   "source": []
  }
 ],
 "metadata": {
  "anaconda-cloud": {},
  "kernelspec": {
   "display_name": "Python 2",
   "language": "python",
   "name": "python2"
  },
  "language_info": {
   "codemirror_mode": {
    "name": "ipython",
    "version": 2
   },
   "file_extension": ".py",
   "mimetype": "text/x-python",
   "name": "python",
   "nbconvert_exporter": "python",
   "pygments_lexer": "ipython2",
   "version": "2.7.13"
  }
 },
 "nbformat": 4,
 "nbformat_minor": 1
}
